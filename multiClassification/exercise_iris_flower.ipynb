{
 "cells": [
  {
   "cell_type": "code",
   "execution_count": 1,
   "metadata": {},
   "outputs": [],
   "source": [
    "%matplotlib inline"
   ]
  },
  {
   "cell_type": "code",
   "execution_count": 2,
   "metadata": {},
   "outputs": [],
   "source": [
    "from sklearn.datasets import load_iris"
   ]
  },
  {
   "cell_type": "code",
   "execution_count": 3,
   "metadata": {},
   "outputs": [],
   "source": [
    "iris = load_iris()"
   ]
  },
  {
   "cell_type": "code",
   "execution_count": 11,
   "metadata": {},
   "outputs": [
    {
     "data": {
      "text/plain": [
       "['DESCR', 'data', 'feature_names', 'filename', 'target', 'target_names']"
      ]
     },
     "execution_count": 11,
     "metadata": {},
     "output_type": "execute_result"
    }
   ],
   "source": [
    "dir(iris)"
   ]
  },
  {
   "cell_type": "code",
   "execution_count": 28,
   "metadata": {},
   "outputs": [
    {
     "name": "stdout",
     "output_type": "stream",
     "text": [
      "data: [5.  2.3 3.3 1. ], name: versicolor\n",
      "data: [5.2 3.5 1.5 0.2], name: setosa\n",
      "data: [5.1 3.5 1.4 0.3], name: setosa\n",
      "data: [5.1 3.8 1.5 0.3], name: setosa\n",
      "data: [6.1 3.  4.6 1.4], name: versicolor\n"
     ]
    }
   ],
   "source": [
    "import random\n",
    "for j in range(5):\n",
    "    i = random.randint(0,150)\n",
    "    print(f'data: {iris.data[i]}, name: {iris.target_names[iris.target[i]]}')"
   ]
  },
  {
   "cell_type": "code",
   "execution_count": 29,
   "metadata": {},
   "outputs": [],
   "source": [
    "from sklearn.linear_model import LogisticRegression\n",
    "model = LogisticRegression()"
   ]
  },
  {
   "cell_type": "code",
   "execution_count": 30,
   "metadata": {},
   "outputs": [],
   "source": [
    "from sklearn.model_selection import train_test_split"
   ]
  },
  {
   "cell_type": "code",
   "execution_count": 31,
   "metadata": {},
   "outputs": [],
   "source": [
    "X_train, X_test, y_train, y_test = train_test_split(iris.data,iris.target,test_size=0.2)"
   ]
  },
  {
   "cell_type": "code",
   "execution_count": 32,
   "metadata": {},
   "outputs": [
    {
     "name": "stderr",
     "output_type": "stream",
     "text": [
      "C:\\ProgramData\\Anaconda3\\lib\\site-packages\\sklearn\\linear_model\\_logistic.py:940: ConvergenceWarning: lbfgs failed to converge (status=1):\n",
      "STOP: TOTAL NO. of ITERATIONS REACHED LIMIT.\n",
      "\n",
      "Increase the number of iterations (max_iter) or scale the data as shown in:\n",
      "    https://scikit-learn.org/stable/modules/preprocessing.html\n",
      "Please also refer to the documentation for alternative solver options:\n",
      "    https://scikit-learn.org/stable/modules/linear_model.html#logistic-regression\n",
      "  extra_warning_msg=_LOGISTIC_SOLVER_CONVERGENCE_MSG)\n"
     ]
    },
    {
     "data": {
      "text/plain": [
       "LogisticRegression(C=1.0, class_weight=None, dual=False, fit_intercept=True,\n",
       "                   intercept_scaling=1, l1_ratio=None, max_iter=100,\n",
       "                   multi_class='auto', n_jobs=None, penalty='l2',\n",
       "                   random_state=None, solver='lbfgs', tol=0.0001, verbose=0,\n",
       "                   warm_start=False)"
      ]
     },
     "execution_count": 32,
     "metadata": {},
     "output_type": "execute_result"
    }
   ],
   "source": [
    "model.fit(X_train,y_train)"
   ]
  },
  {
   "cell_type": "code",
   "execution_count": 33,
   "metadata": {},
   "outputs": [
    {
     "data": {
      "text/plain": [
       "1.0"
      ]
     },
     "execution_count": 33,
     "metadata": {},
     "output_type": "execute_result"
    }
   ],
   "source": [
    "model.score(X_test,y_test)"
   ]
  },
  {
   "cell_type": "code",
   "execution_count": 37,
   "metadata": {},
   "outputs": [
    {
     "name": "stdout",
     "output_type": "stream",
     "text": [
      "prediction: ['virginica'], name: virginica\n",
      "prediction: ['setosa'], name: setosa\n",
      "prediction: ['setosa'], name: setosa\n",
      "prediction: ['virginica'], name: virginica\n",
      "prediction: ['virginica'], name: virginica\n",
      "prediction: ['versicolor'], name: versicolor\n",
      "prediction: ['virginica'], name: virginica\n",
      "prediction: ['versicolor'], name: versicolor\n",
      "prediction: ['versicolor'], name: versicolor\n",
      "prediction: ['virginica'], name: virginica\n",
      "prediction: ['setosa'], name: setosa\n",
      "prediction: ['virginica'], name: virginica\n",
      "prediction: ['setosa'], name: setosa\n",
      "prediction: ['setosa'], name: setosa\n",
      "prediction: ['setosa'], name: setosa\n",
      "prediction: ['virginica'], name: virginica\n",
      "prediction: ['versicolor'], name: versicolor\n",
      "prediction: ['setosa'], name: setosa\n",
      "prediction: ['virginica'], name: virginica\n",
      "prediction: ['setosa'], name: setosa\n",
      "prediction: ['versicolor'], name: versicolor\n",
      "prediction: ['versicolor'], name: versicolor\n",
      "prediction: ['setosa'], name: setosa\n",
      "prediction: ['versicolor'], name: versicolor\n",
      "prediction: ['versicolor'], name: versicolor\n",
      "prediction: ['setosa'], name: setosa\n",
      "prediction: ['versicolor'], name: versicolor\n",
      "prediction: ['setosa'], name: setosa\n",
      "prediction: ['setosa'], name: setosa\n",
      "prediction: ['virginica'], name: virginica\n",
      "prediction: ['virginica'], name: virginica\n",
      "prediction: ['setosa'], name: setosa\n",
      "prediction: ['setosa'], name: setosa\n",
      "prediction: ['setosa'], name: setosa\n",
      "prediction: ['virginica'], name: virginica\n",
      "prediction: ['virginica'], name: virginica\n",
      "prediction: ['setosa'], name: setosa\n",
      "prediction: ['versicolor'], name: versicolor\n",
      "prediction: ['versicolor'], name: versicolor\n",
      "prediction: ['setosa'], name: setosa\n",
      "prediction: ['virginica'], name: virginica\n",
      "prediction: ['virginica'], name: virginica\n",
      "prediction: ['versicolor'], name: versicolor\n",
      "prediction: ['setosa'], name: setosa\n",
      "prediction: ['setosa'], name: setosa\n",
      "prediction: ['virginica'], name: virginica\n",
      "prediction: ['setosa'], name: setosa\n",
      "prediction: ['versicolor'], name: versicolor\n",
      "prediction: ['virginica'], name: virginica\n",
      "prediction: ['versicolor'], name: versicolor\n"
     ]
    }
   ],
   "source": [
    "for j in range(50):\n",
    "    i = random.randint(0,149)\n",
    "    print(f'prediction: {iris.target_names[model.predict([iris.data[i]])]}, name: {iris.target_names[iris.target[i]]}')"
   ]
  },
  {
   "cell_type": "code",
   "execution_count": 40,
   "metadata": {},
   "outputs": [
    {
     "data": {
      "text/plain": [
       "array([[ 8,  0,  0],\n",
       "       [ 0,  7,  0],\n",
       "       [ 0,  0, 15]], dtype=int64)"
      ]
     },
     "execution_count": 40,
     "metadata": {},
     "output_type": "execute_result"
    }
   ],
   "source": [
    "from sklearn.metrics import confusion_matrix\n",
    "y_predicted = model.predict(X_test) \n",
    "cm = confusion_matrix(y_test, y_predicted)\n",
    "cm"
   ]
  },
  {
   "cell_type": "code",
   "execution_count": 42,
   "metadata": {},
   "outputs": [
    {
     "data": {
      "text/plain": [
       "<matplotlib.axes._subplots.AxesSubplot at 0x1fcc5618438>"
      ]
     },
     "execution_count": 42,
     "metadata": {},
     "output_type": "execute_result"
    },
    {
     "data": {
      "image/png": "[encoded data removed]",
      "text/plain": [
       "<Figure size 720x216 with 2 Axes>"
      ]
     },
     "metadata": {
      "needs_background": "light"
     },
     "output_type": "display_data"
    }
   ],
   "source": [
    "import seaborn as sn\n",
    "import matplotlib.pyplot as plt\n",
    "plt.figure(figsize = (10,3))\n",
    "sn.heatmap(cm, annot=True)"
   ]
  },
  {
   "cell_type": "code",
   "execution_count": null,
   "metadata": {},
   "outputs": [],
   "source": []
  },
  {
   "cell_type": "code",
   "execution_count": null,
   "metadata": {},
   "outputs": [],
   "source": []
  },
  {
   "cell_type": "code",
   "execution_count": null,
   "metadata": {},
   "outputs": [],
   "source": []
  }
 ],
 "metadata": {
  "kernelspec": {
   "display_name": "Python [conda env:root] *",
   "language": "python",
   "name": "conda-root-py"
  },
  "language_info": {
   "codemirror_mode": {
    "name": "ipython",
    "version": 3
   },
   "file_extension": ".py",
   "mimetype": "text/x-python",
   "name": "python",
   "nbconvert_exporter": "python",
   "pygments_lexer": "ipython3",
   "version": "3.7.3"
  }
 },
 "nbformat": 4,
 "nbformat_minor": 4
}
